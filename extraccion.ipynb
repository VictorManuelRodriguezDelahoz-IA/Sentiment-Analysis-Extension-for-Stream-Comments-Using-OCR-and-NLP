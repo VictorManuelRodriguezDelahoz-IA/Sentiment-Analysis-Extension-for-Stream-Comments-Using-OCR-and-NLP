{
 "cells": [
  {
   "cell_type": "code",
   "execution_count": 1,
   "metadata": {},
   "outputs": [],
   "source": [
    "import cv2\n",
    "import easyocr\n",
    "import numpy as np\n",
    "from PIL import ImageGrab, Image"
   ]
  },
  {
   "cell_type": "code",
   "execution_count": 5,
   "metadata": {},
   "outputs": [],
   "source": [
    "import time"
   ]
  },
  {
   "cell_type": "code",
   "execution_count": 15,
   "metadata": {},
   "outputs": [
    {
     "name": "stdout",
     "output_type": "stream",
     "text": [
      "Esperando 3 segundos antes de tomar el pantallazo...\n"
     ]
    },
    {
     "name": "stderr",
     "output_type": "stream",
     "text": [
      "Neither CUDA nor MPS are available - defaulting to CPU. Note: This module is much faster with a GPU.\n"
     ]
    },
    {
     "name": "stdout",
     "output_type": "stream",
     "text": [
      "Pantallazo guardado como comentarios.png en la plataforma twitch.\n"
     ]
    }
   ],
   "source": [
    "import cv2\n",
    "import easyocr\n",
    "import numpy as np\n",
    "from PIL import ImageGrab, Image\n",
    "import time\n",
    "\n",
    "def take_screenshot_of_comment_section(file_name, keywords, platform=\"generic\"):\n",
    "    \"\"\"\n",
    "    Toma un pantallazo de la sección de comentarios en la pantalla basada en la detección de palabras clave usando EasyOCR.\n",
    "    La captura se toma desde la ubicación de la palabra clave hacia abajo y se extiende horizontalmente para incluir los comentarios.\n",
    "\n",
    "    :param file_name: Nombre del archivo donde se guardará el pantallazo.\n",
    "    :param keywords: Lista de palabras clave para identificar la sección de comentarios.\n",
    "    :param platform: Plataforma específica en la que se está trabajando.\n",
    "    \"\"\"\n",
    "    # Espera 3 segundos antes de tomar el pantallazo\n",
    "    print(\"Esperando 3 segundos antes de tomar el pantallazo...\")\n",
    "    time.sleep(3)\n",
    "\n",
    "    # Captura toda la pantalla\n",
    "    screenshot = ImageGrab.grab()\n",
    "    screenshot_np = np.array(screenshot)\n",
    "\n",
    "    # Convierte la imagen a escala de grises para el OCR\n",
    "    gray_screenshot = cv2.cvtColor(screenshot_np, cv2.COLOR_BGR2GRAY)\n",
    "\n",
    "    # Inicializa el lector de EasyOCR\n",
    "    reader = easyocr.Reader(['en', 'es'])  # Ajusta los idiomas según necesites\n",
    "\n",
    "    # Aplica OCR para detectar texto en la pantalla\n",
    "    ocr_result = reader.readtext(gray_screenshot)\n",
    "\n",
    "    screen_width = screenshot_np.shape[1]\n",
    "    screen_height = screenshot_np.shape[0]\n",
    "\n",
    "    # Variables para la mejor sección de comentarios\n",
    "    best_section = None\n",
    "\n",
    "    # Buscar la palabra clave en toda la pantalla\n",
    "    for (bbox, text, prob) in ocr_result:\n",
    "        for keyword in keywords:\n",
    "            if keyword.lower() in text.lower():\n",
    "                # Encuentra las coordenadas de la palabra clave\n",
    "                (top_left, top_right, bottom_right, bottom_left) = bbox\n",
    "                left = int(min(top_left[0], bottom_left[0]))\n",
    "                top = int(min(top_left[1], top_right[1]))\n",
    "\n",
    "                # Extiende la captura hacia abajo y horizontalmente\n",
    "                new_bottom = screen_height  # Desde la palabra clave hasta la parte inferior de la pantalla\n",
    "                new_left = max(left - 20, 0)\n",
    "                new_right = min(screen_width, screen_width)  # Capturar todo el ancho desde la palabra clave\n",
    "\n",
    "                # Define la región a capturar\n",
    "                best_section = (new_left, top, new_right, new_bottom)\n",
    "                break\n",
    "        if best_section:\n",
    "            break\n",
    "\n",
    "    # Si se detectó una sección adecuada, tomar un pantallazo\n",
    "    if best_section:\n",
    "        best_left, best_top, best_right, best_bottom = best_section\n",
    "        comment_section_screenshot = screenshot.crop((best_left, best_top, best_right, best_bottom))\n",
    "        comment_section_screenshot.save(file_name)\n",
    "        print(f\"Pantallazo guardado como {file_name} en la plataforma {platform}.\")\n",
    "    else:\n",
    "        print(f\"No se detectó ninguna sección de comentarios en la plataforma: {platform}.\")\n",
    "\n",
    "# Ejemplo de uso\n",
    "keywords = [\"Chat\", \"comments\", \"comentarios\", \"chatting\", \"discussion\", \"live chat\"]\n",
    "platform = \"twitch\"  # Cambia por la plataforma que estés usando\n",
    "take_screenshot_of_comment_section(\"comentarios.png\", keywords, platform=platform)\n",
    "\n"
   ]
  }
 ],
 "metadata": {
  "kernelspec": {
   "display_name": "myenv",
   "language": "python",
   "name": "python3"
  },
  "language_info": {
   "codemirror_mode": {
    "name": "ipython",
    "version": 3
   },
   "file_extension": ".py",
   "mimetype": "text/x-python",
   "name": "python",
   "nbconvert_exporter": "python",
   "pygments_lexer": "ipython3",
   "version": "3.8.19"
  }
 },
 "nbformat": 4,
 "nbformat_minor": 2
}
